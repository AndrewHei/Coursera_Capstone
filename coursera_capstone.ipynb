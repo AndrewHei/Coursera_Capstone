#Coursera Capstone#
##This notebook is created for Cousera Capstone, it will be used throught the Applied Data Science Course##
#Imports
import pandas as pd
import numpy as np

print('Hello Capstone Project Course!')
